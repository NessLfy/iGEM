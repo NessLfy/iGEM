{
 "cells": [
  {
   "cell_type": "code",
   "execution_count": 1,
   "id": "e908a686",
   "metadata": {},
   "outputs": [
    {
     "name": "stderr",
     "output_type": "stream",
     "text": [
      "C:\\Users\\nessl\\anaconda3\\lib\\site-packages\\scipy\\__init__.py:146: UserWarning: A NumPy version >=1.16.5 and <1.23.0 is required for this version of SciPy (detected version 1.23.0\n",
      "  warnings.warn(f\"A NumPy version >={np_minversion} and <{np_maxversion}\"\n"
     ]
    }
   ],
   "source": [
    "import pandas as pd\n",
    "import seaborn as sns\n",
    "import matplotlib.pyplot as plt\n",
    "import numpy as np\n",
    "from matplotlib.pyplot import Figure\n",
    "import warnings\n",
    "import os"
   ]
  },
  {
   "cell_type": "code",
   "execution_count": 2,
   "id": "2ae76c1b",
   "metadata": {},
   "outputs": [],
   "source": [
    "def quantif(path,names):\n",
    "    \n",
    "    '''\n",
    "    Quantification of the paper_based test\n",
    "    Computes the ratio of absorbance intensity between the control and test band\n",
    "    \n",
    "    Arguments:\n",
    "    path: string of where the file is located\n",
    "    names: a list of string of the names of the sample for the plotting\n",
    "    \n",
    "    '''\n",
    "    \n",
    "    results = pd.read_csv(path)\n",
    "    intensity = list(results.Mean)\n",
    "    bck = []\n",
    "    test = []\n",
    "    control = []\n",
    "    \n",
    "    counter = 0\n",
    "    \n",
    "    # Gather the background values situated every 2 measurements\n",
    "    \n",
    "    for i in range(len(intensity)):\n",
    "        if counter == 3:\n",
    "            counter = 0\n",
    "            bck.append(intensity[i-2])\n",
    "        counter+=1\n",
    "\n",
    "    bck.append(intensity[-2])\n",
    "    counter = 1\n",
    "    pos = 0\n",
    "    \n",
    "    #remove the background to all the intensities\n",
    "    \n",
    "    for i in range(len(intensity)):\n",
    "        if counter == 3:\n",
    "            counter = 0\n",
    "            intensity[i]= intensity[i]-bck[pos]\n",
    "            pos += 1\n",
    "        else:\n",
    "            intensity[i]= intensity[i]-bck[pos]\n",
    "        counter +=1\n",
    "\n",
    "    intensity = [i for i in intensity if i != 0]\n",
    "\n",
    "    counter = 0\n",
    "    \n",
    "    # get 2 lists for test and control \n",
    "    \n",
    "    for i in range(len(intensity)):\n",
    "        if counter == 1:\n",
    "            counter = 0\n",
    "            test.append(intensity[i])\n",
    "        else:\n",
    "            control.append(intensity[i])\n",
    "            counter+=1\n",
    "            \n",
    "    #check that everything is good i.e there are as much control bands as tests\n",
    "    \n",
    "    if len(test) == len(control):\n",
    "        print('Good!')\n",
    "        \n",
    "    #computes the ratio\n",
    "    \n",
    "    ratio = [test[i]/control[i] for i in range(len(test))]\n",
    "    \n",
    "    # plot \n",
    "    \n",
    "    plt.bar([i for i in range(len(test))],ratio)\n",
    "    plt.xticks([i for i in range(len(test))],names,rotation=20)\n",
    "    plt.ylabel(\"Ratio test/control (A.U)\")\n",
    "    plt.tight_layout()\n",
    "    plt.show()"
   ]
  }
 ],
 "metadata": {
  "kernelspec": {
   "display_name": "Python 3 (ipykernel)",
   "language": "python",
   "name": "python3"
  },
  "language_info": {
   "codemirror_mode": {
    "name": "ipython",
    "version": 3
   },
   "file_extension": ".py",
   "mimetype": "text/x-python",
   "name": "python",
   "nbconvert_exporter": "python",
   "pygments_lexer": "ipython3",
   "version": "3.8.11"
  }
 },
 "nbformat": 4,
 "nbformat_minor": 5
}
