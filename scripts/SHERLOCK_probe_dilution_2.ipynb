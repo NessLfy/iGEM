{
 "cells": [
  {
   "cell_type": "code",
   "execution_count": 1,
   "id": "5ead4dc2",
   "metadata": {},
   "outputs": [
    {
     "name": "stderr",
     "output_type": "stream",
     "text": [
      "C:\\Users\\nessl\\anaconda3\\lib\\site-packages\\scipy\\__init__.py:146: UserWarning: A NumPy version >=1.16.5 and <1.23.0 is required for this version of SciPy (detected version 1.23.0\n",
      "  warnings.warn(f\"A NumPy version >={np_minversion} and <{np_maxversion}\"\n"
     ]
    }
   ],
   "source": [
    "import numpy as np\n",
    "import matplotlib.pyplot as plt\n",
    "import pandas as pd\n",
    "import statistics\n",
    "import re \n",
    "from operator import itemgetter\n",
    "import warnings\n",
    "from scipy.integrate import solve_ivp\n",
    "from scipy import optimize\n",
    "import seaborn as sns\n",
    "import PyCCELL_PRFQT as px"
   ]
  },
  {
   "cell_type": "code",
   "execution_count": 2,
   "id": "90c935e7",
   "metadata": {},
   "outputs": [],
   "source": [
    "def endpoint(df):\n",
    "    end_point = pd.DataFrame(df.max(axis=0))\n",
    "    end_point = end_point.T\n",
    "    end_point= end_point.drop(columns=[i for i in end_point.columns if 'Time'in i or'NC'in i or'std' in i])\n",
    "    return end_point"
   ]
  },
  {
   "cell_type": "code",
   "execution_count": 3,
   "id": "439f1c7d",
   "metadata": {
    "scrolled": false
   },
   "outputs": [
    {
     "ename": "IndexError",
     "evalue": "list index out of range",
     "output_type": "error",
     "traceback": [
      "\u001b[1;31m---------------------------------------------------------------------------\u001b[0m",
      "\u001b[1;31mIndexError\u001b[0m                                Traceback (most recent call last)",
      "\u001b[1;32m~\\AppData\\Local\\Temp/ipykernel_15344/2246332418.py\u001b[0m in \u001b[0;36m<module>\u001b[1;34m\u001b[0m\n\u001b[1;32m----> 1\u001b[1;33m test = px.main('../results/SHERLOCK/1st_try_probe_dilution/sherlock_probe_concentr_3.xlsx',\n\u001b[0m\u001b[0;32m      2\u001b[0m                75,\"YES\",3,4,'col',['J6','K6','L6'],\"YES\")\n",
      "\u001b[1;32m~\\Documents\\iGEM\\iGEM\\scripts\\PyCCELL_PRFQT_shake.py\u001b[0m in \u001b[0;36mmain\u001b[1;34m(data, gain, cor, nr, nc, tripl, control, sa)\u001b[0m\n\u001b[0;32m    247\u001b[0m \u001b[1;32mdef\u001b[0m \u001b[0mmain\u001b[0m\u001b[1;33m(\u001b[0m\u001b[0mdata\u001b[0m\u001b[1;33m,\u001b[0m\u001b[0mgain\u001b[0m\u001b[1;33m,\u001b[0m\u001b[0mcor\u001b[0m\u001b[1;33m,\u001b[0m\u001b[0mnr\u001b[0m\u001b[1;33m,\u001b[0m\u001b[0mnc\u001b[0m\u001b[1;33m,\u001b[0m\u001b[0mtripl\u001b[0m\u001b[1;33m,\u001b[0m\u001b[0mcontrol\u001b[0m\u001b[1;33m,\u001b[0m\u001b[0msa\u001b[0m\u001b[1;33m)\u001b[0m\u001b[1;33m:\u001b[0m\u001b[1;33m\u001b[0m\u001b[1;33m\u001b[0m\u001b[0m\n\u001b[0;32m    248\u001b[0m \u001b[1;33m\u001b[0m\u001b[0m\n\u001b[1;32m--> 249\u001b[1;33m     \u001b[0mfile\u001b[0m \u001b[1;33m=\u001b[0m \u001b[0mexcelreader\u001b[0m\u001b[1;33m(\u001b[0m\u001b[0mdata\u001b[0m\u001b[1;33m,\u001b[0m\u001b[0mgain\u001b[0m\u001b[1;33m,\u001b[0m\u001b[0mcor\u001b[0m\u001b[1;33m)\u001b[0m\u001b[1;33m\u001b[0m\u001b[1;33m\u001b[0m\u001b[0m\n\u001b[0m\u001b[0;32m    250\u001b[0m \u001b[1;33m\u001b[0m\u001b[0m\n\u001b[0;32m    251\u001b[0m     \u001b[0mplot_raw_data\u001b[0m\u001b[1;33m(\u001b[0m\u001b[0mfile\u001b[0m\u001b[1;33m,\u001b[0m\u001b[0mnr\u001b[0m\u001b[1;33m,\u001b[0m\u001b[0mnc\u001b[0m\u001b[1;33m)\u001b[0m\u001b[1;33m\u001b[0m\u001b[1;33m\u001b[0m\u001b[0m\n",
      "\u001b[1;32m~\\Documents\\iGEM\\iGEM\\scripts\\PyCCELL_PRFQT_shake.py\u001b[0m in \u001b[0;36mexcelreader\u001b[1;34m(name, gain, correct)\u001b[0m\n\u001b[0;32m     50\u001b[0m \u001b[1;33m\u001b[0m\u001b[0m\n\u001b[0;32m     51\u001b[0m         \u001b[0mtime_points\u001b[0m \u001b[1;33m=\u001b[0m \u001b[0mint\u001b[0m\u001b[1;33m(\u001b[0m\u001b[0mre\u001b[0m\u001b[1;33m.\u001b[0m\u001b[0mfindall\u001b[0m\u001b[1;33m(\u001b[0m\u001b[1;34mr'\\d+'\u001b[0m\u001b[1;33m,\u001b[0m\u001b[0mtest\u001b[0m\u001b[1;33m.\u001b[0m\u001b[0miloc\u001b[0m\u001b[1;33m[\u001b[0m\u001b[1;36m16\u001b[0m\u001b[1;33m,\u001b[0m\u001b[1;36m1\u001b[0m\u001b[1;33m]\u001b[0m\u001b[1;33m)\u001b[0m\u001b[1;33m[\u001b[0m\u001b[1;33m-\u001b[0m\u001b[1;36m1\u001b[0m\u001b[1;33m]\u001b[0m\u001b[1;33m)\u001b[0m\u001b[1;33m\u001b[0m\u001b[1;33m\u001b[0m\u001b[0m\n\u001b[1;32m---> 52\u001b[1;33m         \u001b[0mtime_interval\u001b[0m \u001b[1;33m=\u001b[0m \u001b[0mint\u001b[0m\u001b[1;33m(\u001b[0m\u001b[0mre\u001b[0m\u001b[1;33m.\u001b[0m\u001b[0mfindall\u001b[0m\u001b[1;33m(\u001b[0m\u001b[1;34mr'\\d+'\u001b[0m\u001b[1;33m,\u001b[0m\u001b[0mtest\u001b[0m\u001b[1;33m.\u001b[0m\u001b[0miloc\u001b[0m\u001b[1;33m[\u001b[0m\u001b[1;36m16\u001b[0m\u001b[1;33m,\u001b[0m\u001b[1;36m1\u001b[0m\u001b[1;33m]\u001b[0m\u001b[1;33m)\u001b[0m\u001b[1;33m[\u001b[0m\u001b[1;33m-\u001b[0m\u001b[1;36m3\u001b[0m\u001b[1;33m]\u001b[0m\u001b[1;33m)\u001b[0m\u001b[1;33m\u001b[0m\u001b[1;33m\u001b[0m\u001b[0m\n\u001b[0m\u001b[0;32m     53\u001b[0m     \u001b[1;31m# \"crop\" the table depending on the gain set\u001b[0m\u001b[1;33m\u001b[0m\u001b[1;33m\u001b[0m\u001b[1;33m\u001b[0m\u001b[0m\n\u001b[0;32m     54\u001b[0m \u001b[1;33m\u001b[0m\u001b[0m\n",
      "\u001b[1;31mIndexError\u001b[0m: list index out of range"
     ]
    }
   ],
   "source": [
    "test = px.main('../results/SHERLOCK/1st_try_probe_dilution/sherlock_probe_concentr_3_v2.xlsx',\n",
    "               75,\"YES\",3,4,'col',['J6','K6','L6'],\"YES\")"
   ]
  },
  {
   "cell_type": "code",
   "execution_count": 41,
   "id": "16faa56d",
   "metadata": {},
   "outputs": [
    {
     "data": {
      "text/html": [
       "<div>\n",
       "<style scoped>\n",
       "    .dataframe tbody tr th:only-of-type {\n",
       "        vertical-align: middle;\n",
       "    }\n",
       "\n",
       "    .dataframe tbody tr th {\n",
       "        vertical-align: top;\n",
       "    }\n",
       "\n",
       "    .dataframe thead th {\n",
       "        text-align: right;\n",
       "    }\n",
       "</style>\n",
       "<table border=\"1\" class=\"dataframe\">\n",
       "  <thead>\n",
       "    <tr style=\"text-align: right;\">\n",
       "      <th></th>\n",
       "      <th>2µM_P</th>\n",
       "      <th>1µM_P</th>\n",
       "      <th>0.1µM_P</th>\n",
       "      <th>NC</th>\n",
       "      <th>Time</th>\n",
       "      <th>2µM_P_std</th>\n",
       "      <th>1µM_P_std</th>\n",
       "      <th>0.1µM_P_std</th>\n",
       "      <th>NC_std</th>\n",
       "    </tr>\n",
       "  </thead>\n",
       "  <tbody>\n",
       "    <tr>\n",
       "      <th>0</th>\n",
       "      <td>0.015962</td>\n",
       "      <td>0.000000</td>\n",
       "      <td>0.002983</td>\n",
       "      <td>0.0</td>\n",
       "      <td>0</td>\n",
       "      <td>0.002233</td>\n",
       "      <td>0.007983</td>\n",
       "      <td>0.003680</td>\n",
       "      <td>0.003167</td>\n",
       "    </tr>\n",
       "    <tr>\n",
       "      <th>1</th>\n",
       "      <td>0.017959</td>\n",
       "      <td>0.001063</td>\n",
       "      <td>0.004483</td>\n",
       "      <td>0.0</td>\n",
       "      <td>5</td>\n",
       "      <td>0.001228</td>\n",
       "      <td>0.009868</td>\n",
       "      <td>0.003855</td>\n",
       "      <td>0.000862</td>\n",
       "    </tr>\n",
       "    <tr>\n",
       "      <th>2</th>\n",
       "      <td>0.042864</td>\n",
       "      <td>0.012309</td>\n",
       "      <td>0.006079</td>\n",
       "      <td>0.0</td>\n",
       "      <td>10</td>\n",
       "      <td>0.009536</td>\n",
       "      <td>0.013337</td>\n",
       "      <td>0.002635</td>\n",
       "      <td>0.001825</td>\n",
       "    </tr>\n",
       "    <tr>\n",
       "      <th>3</th>\n",
       "      <td>0.083645</td>\n",
       "      <td>0.026314</td>\n",
       "      <td>0.007757</td>\n",
       "      <td>0.0</td>\n",
       "      <td>15</td>\n",
       "      <td>0.014689</td>\n",
       "      <td>0.016499</td>\n",
       "      <td>0.006394</td>\n",
       "      <td>0.001087</td>\n",
       "    </tr>\n",
       "    <tr>\n",
       "      <th>4</th>\n",
       "      <td>0.122778</td>\n",
       "      <td>0.043079</td>\n",
       "      <td>0.010644</td>\n",
       "      <td>0.0</td>\n",
       "      <td>20</td>\n",
       "      <td>0.015169</td>\n",
       "      <td>0.016702</td>\n",
       "      <td>0.001205</td>\n",
       "      <td>0.001231</td>\n",
       "    </tr>\n",
       "  </tbody>\n",
       "</table>\n",
       "</div>"
      ],
      "text/plain": [
       "      2µM_P     1µM_P   0.1µM_P   NC  Time  2µM_P_std  1µM_P_std  0.1µM_P_std  \\\n",
       "0  0.015962  0.000000  0.002983  0.0     0   0.002233   0.007983     0.003680   \n",
       "1  0.017959  0.001063  0.004483  0.0     5   0.001228   0.009868     0.003855   \n",
       "2  0.042864  0.012309  0.006079  0.0    10   0.009536   0.013337     0.002635   \n",
       "3  0.083645  0.026314  0.007757  0.0    15   0.014689   0.016499     0.006394   \n",
       "4  0.122778  0.043079  0.010644  0.0    20   0.015169   0.016702     0.001205   \n",
       "\n",
       "     NC_std  \n",
       "0  0.003167  \n",
       "1  0.000862  \n",
       "2  0.001825  \n",
       "3  0.001087  \n",
       "4  0.001231  "
      ]
     },
     "execution_count": 41,
     "metadata": {},
     "output_type": "execute_result"
    }
   ],
   "source": [
    "test.rename(columns={\"['J3', 'K3', 'L3']\": '2µM_P',\n",
    "                   \"['J4', 'K4', 'L4']\": '1µM_P',\n",
    "                     \"['J5', 'K5', 'L5']\":'0.1µM_P' ,\n",
    "                     \"['J6', 'K6', 'L6']\": 'NC',\n",
    "                     0: '2µM_P_std',\n",
    "                   1: '1µM_P_std',\n",
    "                     2:'0.1µM_P_std' ,\n",
    "                     3:'NC_std'\n",
    "                     },\n",
    "          inplace=True, errors='raise')\n",
    "\n",
    "test.head()"
   ]
  },
  {
   "cell_type": "code",
   "execution_count": 42,
   "id": "17ad67b2",
   "metadata": {},
   "outputs": [
    {
     "data": {
      "image/png": "[encoded data removed]",
      "text/plain": [
       "<Figure size 432x288 with 1 Axes>"
      ]
     },
     "metadata": {
      "needs_background": "light"
     },
     "output_type": "display_data"
    }
   ],
   "source": [
    "sns.set_context(\"notebook\")\n",
    "test[['2µM_P','1µM_P','0.1µM_P']].plot(yerr=[test['2µM_P_std'],\n",
    "                                                          test['1µM_P_std'],\n",
    "                                                          test['0.1µM_P_std']])\n",
    "plt.legend()\n",
    "plt.ylabel(\"Fluorescence (A.U)\")\n",
    "plt.xlabel(\"Time Points\")\n",
    "plt.tight_layout()\n",
    "#plt.savefig(\"../images/SHERLOCK/probe_dilution_pt3.png\",dpi=300)\n",
    "plt.show()"
   ]
  },
  {
   "cell_type": "markdown",
   "id": "d0f7ee4c",
   "metadata": {},
   "source": [
    "fig,ax = plt.subplots(1,2)\n",
    "fig.set_size_inches(15,5)\n",
    "\n",
    "sns.set_context(\"notebook\")\n",
    "test[['0.1µM_P']].plot(yerr=[test['0.1µM_P_std']],ax=ax[0])\n",
    "test_2[['1µM_P']].plot(yerr=[test_2['1µM_P_std']],ax=ax[1])\n",
    "\n",
    "for ax in ax:\n",
    "    \n",
    "    ax.legend()\n",
    "    ax.set_ylabel(\"Fluorescence (A.U)\")\n",
    "    ax.set_xlabel(\"Time Points\")\n",
    "    \n",
    "#plt.tight_layout()\n",
    "#plt.savefig(\"images/SHERLOCK/probe_dilution_pt2.png\",dpi=300)\n",
    "plt.show()"
   ]
  },
  {
   "cell_type": "markdown",
   "id": "34812659",
   "metadata": {},
   "source": [
    "## Endpoint plots"
   ]
  },
  {
   "cell_type": "code",
   "execution_count": 43,
   "id": "3344f65e",
   "metadata": {},
   "outputs": [
    {
     "data": {
      "image/png": "[encoded data removed]",
      "text/plain": [
       "<Figure size 432x288 with 1 Axes>"
      ]
     },
     "metadata": {
      "needs_background": "light"
     },
     "output_type": "display_data"
    }
   ],
   "source": [
    "end_point = endpoint(test)\n",
    "sns.set_context(\"notebook\")\n",
    "sns.set_palette(\"muted\")\n",
    "\n",
    "end_point.plot(kind=\"bar\")\n",
    "plt.legend()\n",
    "plt.xticks([])\n",
    "plt.ylabel(\"Fluorescence(A.U)\")\n",
    "plt.title(\"End-point fluorescence\")\n",
    "plt.tight_layout()\n",
    "#plt.savefig(\"../images/SHERLOCK/end_point_probes_V3.png\",dpi=300)\n",
    "plt.show()"
   ]
  },
  {
   "cell_type": "code",
   "execution_count": null,
   "id": "280c1601",
   "metadata": {},
   "outputs": [],
   "source": []
  }
 ],
 "metadata": {
  "kernelspec": {
   "display_name": "Python 3 (ipykernel)",
   "language": "python",
   "name": "python3"
  },
  "language_info": {
   "codemirror_mode": {
    "name": "ipython",
    "version": 3
   },
   "file_extension": ".py",
   "mimetype": "text/x-python",
   "name": "python",
   "nbconvert_exporter": "python",
   "pygments_lexer": "ipython3",
   "version": "3.8.11"
  }
 },
 "nbformat": 4,
 "nbformat_minor": 5
}
