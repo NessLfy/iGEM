{
 "cells": [
  {
   "cell_type": "code",
   "execution_count": null,
   "id": "f861cb88",
   "metadata": {},
   "outputs": [],
   "source": [
    "from Bio.Blast import NCBIWWW\n",
    "from Bio.Blast import NCBIXML\n",
    "from Bio import SeqIO \n",
    "import pandas as pd\n",
    "from Bio import Entrez\n",
    "import matplotlib.pyplot as plt"
   ]
  },
  {
   "cell_type": "markdown",
   "id": "90408884",
   "metadata": {},
   "source": [
    "# Import the sequence(s)"
   ]
  },
  {
   "cell_type": "code",
   "execution_count": 32,
   "id": "c898d5b5",
   "metadata": {},
   "outputs": [
    {
     "data": {
      "text/plain": [
       "Seq('CCTCACATACCAGATGCGAATTCCCGAG', SingleLetterAlphabet())"
      ]
     },
     "execution_count": 32,
     "metadata": {},
     "output_type": "execute_result"
    }
   ],
   "source": [
    "seq_record = SeqIO.read('sequences/test/sequence_test.fa','fasta')\n",
    "#seq_record.id \n",
    "seq_record.seq "
   ]
  },
  {
   "cell_type": "markdown",
   "id": "e384f297",
   "metadata": {},
   "source": [
    "## Multiple sequences"
   ]
  },
  {
   "cell_type": "code",
   "execution_count": null,
   "id": "6f6cdd51",
   "metadata": {},
   "outputs": [],
   "source": [
    "seq = list(SeqIO.parse('sequences/test/sequences.fa','fasta'))\n",
    "seq[0].seq"
   ]
  },
  {
   "cell_type": "markdown",
   "id": "0431a594",
   "metadata": {},
   "source": [
    "# Call blast from the NCBI website"
   ]
  },
  {
   "cell_type": "code",
   "execution_count": 33,
   "id": "38161649",
   "metadata": {},
   "outputs": [
    {
     "name": "stdout",
     "output_type": "stream",
     "text": [
      "Trying sequence number 0\n",
      "Done with sequence 0 !\n"
     ]
    }
   ],
   "source": [
    "result_handle = []\n",
    "\n",
    "Entrez.email = 'ness.louafi@gmail.com'\n",
    "\n",
    "for i in range(len(seq)):\n",
    "    print('Trying sequence number ' + str(i)+'...')\n",
    "    result_handle.append(NCBIWWW.qblast(\"blastn\", \"nt\", seq[i].seq, hitlist_size = 10))\n",
    "    print('Done with sequence ' + str(i) + ' !')\n",
    "    "
   ]
  },
  {
   "cell_type": "markdown",
   "id": "0caf528d",
   "metadata": {},
   "source": [
    "# Display the results"
   ]
  },
  {
   "cell_type": "code",
   "execution_count": 36,
   "id": "ee7bf579",
   "metadata": {},
   "outputs": [
    {
     "name": "stdout",
     "output_type": "stream",
     "text": [
      "\n",
      "\n",
      "results0\n",
      "match: gi|1825937619|ref|XM_033197112.1| PREDICTED: Trachypithecus francoisi ceramide synthase 2 (CERS2), m \n",
      "****Alignment****\n",
      "length: 2479\n",
      "e value: 3.81343\n",
      "TATTCTGTGAGTTTGGCCCTAGCT   \n",
      "|||||||||| |||||||||||||   \n",
      "TATTCTGTGAATTTGGCCCTAGCT   \n"
     ]
    }
   ],
   "source": [
    "'''\n",
    "for i in range(len(result_handle)):\n",
    "    with open('results/results_test_'+str(i)+'.xml', 'w') as save_file: \n",
    "        blast_results = result_handle[i].read() \n",
    "        save_file.write(blast_results)\n",
    "'''        \n",
    "for i in range(len(result_handle)):\n",
    "    for record in NCBIXML.parse(open(\"results/results_test_\"+str(i)+\".xml\")): \n",
    "         if record.alignments: \n",
    "            print(\"\\n\") \n",
    "            print(\"results\"+str(i))\n",
    "            for align in record.alignments: \n",
    "                for hsp in align.hsps: \n",
    "                    print(\"match: %s \" % align.title[:100])\n",
    "                    #print('e value:', hsp.expect)\n",
    "                    \n",
    "    for alignment in record.alignments:\n",
    "        for hsp in alignment.hsps:\n",
    "            print('****Alignment****')\n",
    "            print('length:', alignment.length)\n",
    "            print('e value:', hsp.expect)\n",
    "            print(hsp.query[0:75] + '   ')\n",
    "            print(hsp.match[0:75] + '   ')\n",
    "            print(hsp.sbjct[0:75] + '   ')\n"
   ]
  },
  {
   "cell_type": "code",
   "execution_count": null,
   "id": "50fe7a23",
   "metadata": {},
   "outputs": [],
   "source": [
    "help(NCBIWWW.qblast)"
   ]
  },
  {
   "cell_type": "code",
   "execution_count": 29,
   "id": "626df2ca",
   "metadata": {
    "scrolled": true
   },
   "outputs": [
    {
     "name": "stdout",
     "output_type": "stream",
     "text": [
      "0\n",
      "0\n",
      "<_io.StringIO object at 0x000002A56D3F01F0>\n",
      "1\n",
      "1\n",
      "<_io.StringIO object at 0x000002A56D4020D0>\n",
      "2\n",
      "2\n",
      "<_io.StringIO object at 0x000002A56D33F940>\n",
      "3\n",
      "3\n",
      "<_io.StringIO object at 0x000002A56A1C4D30>\n",
      "4\n",
      "4\n",
      "<_io.StringIO object at 0x000002A56A1F8670>\n",
      "5\n",
      "5\n",
      "<_io.StringIO object at 0x000002A56D4021F0>\n",
      "6\n",
      "6\n",
      "<_io.StringIO object at 0x000002A56D3BC3A0>\n",
      "7\n",
      "7\n",
      "<_io.StringIO object at 0x000002A56D3BC1F0>\n",
      "8\n",
      "8\n",
      "<_io.StringIO object at 0x000002A56D3BCCA0>\n",
      "9\n",
      "9\n",
      "<_io.StringIO object at 0x000002A56D65D0D0>\n"
     ]
    }
   ],
   "source": [
    "from Bio import Entrez\n",
    "from urllib.error import URLError\n",
    "import time\n",
    "\n",
    "Entrez.email = 'ness.louafi@gmail.com'\n",
    "counter = 0 \n",
    "list_record_host = []\n",
    "for record in SeqIO.parse(\"sequences/test/sequences_10.fa\", format=\"fasta\"):\n",
    "    print(record.id)\n",
    "    print(counter)\n",
    "    counter+=1\n",
    "#         print(record.seq)\n",
    "\n",
    "    # online request\n",
    "    try:\n",
    "        result_handle = NCBIWWW.qblast(\"blastn\",\"nt\",record.seq, hitlist_size = 10)\n",
    "        print(result_handle)\n",
    "    except HTTPError:\n",
    "        time.sleep(5)\n",
    "        result_handle = NCBIWWW.qblast(\"blastn\",\"nt\",record.seq, hitlist_size = 10)\n",
    "\n",
    "    # result handle stored in a list\n",
    "    list_record_host.append(result_handle)"
   ]
  },
  {
   "cell_type": "code",
   "execution_count": 30,
   "id": "fbaec888",
   "metadata": {},
   "outputs": [],
   "source": [
    "for i in range(len(list_record_host)):\n",
    "    with open('results/results'+str(i)+'.xml', 'w') as save_file: \n",
    "        blast_results = result_handle.read() \n",
    "        save_file.write(blast_results)"
   ]
  },
  {
   "cell_type": "markdown",
   "id": "1a9399d8",
   "metadata": {},
   "source": [
    "# Save and open the results"
   ]
  },
  {
   "cell_type": "code",
   "execution_count": null,
   "id": "f75b2a3b",
   "metadata": {
    "scrolled": true
   },
   "outputs": [],
   "source": [
    "for i in range(50):\n",
    "    with open('results'+str(i)+'.xml', 'w') as save_file: \n",
    "        blast_results = result_handle.read() \n",
    "        save_file.write(blast_results)\n",
    "\n",
    "E_VALUE_THRESH = 1e-20 \n",
    "for record in NCBIXML.parse(open(\"results.xml\")): \n",
    "     if record.alignments: \n",
    "        print(\"\\n\") \n",
    "        print(\"query: %s\" % record.query[:100]) \n",
    "        for align in record.alignments: \n",
    "            for hsp in align.hsps: \n",
    "                if hsp.expect < E_VALUE_THRESH: \n",
    "                    print(\"match: %s \" % align.title[:100])"
   ]
  },
  {
   "cell_type": "code",
   "execution_count": null,
   "id": "a33d346f",
   "metadata": {},
   "outputs": [],
   "source": [
    "blast_params = {'program': 'blastp', 'database': 'nr', 'sequence': seq_record.seq, 'expect': 10.0}\n",
    "blast_params['database'] = ['nr']\n",
    "print_data = pd.DataFrame()\n",
    "for database in blast_params['database']:\n",
    "    db_values = {}\n",
    "    result = NCBIWWW.qblast(blast_params['program'], database, blast_params['sequence'], expect=blast_params['expect'])\n",
    "    file_name = \"blast_output_\" + database + \".xml\"\n",
    "    with open(file_name, \"w\") as output_xml:\n",
    "        output_xml.write(result.read())\n",
    "    result.close()\n",
    "    result_input = open(file_name)\n",
    "    blast_records = NCBIXML.read(result_input)\n",
    "    for description in blast_records.descriptions:\n",
    "        if 'score' in db_values:\n",
    "            db_values['score'].append(description.score)\n",
    "        else:\n",
    "            db_values['score'] = [description.score]\n",
    "        if 'e-value' in db_values:\n",
    "            db_values['e-value'].append(description.e)\n",
    "        else:\n",
    "            db_values['e-value'] = [description.e]\n",
    "    df = pd.DataFrame.from_dict(db_values)\n",
    "    df['database'] = database[0:6] # we simply limit the name to the first 6 characters for easier viewing\n",
    "    frames = [print_data, df]\n",
    "    print_data = pd.concat(frames, ignore_index=True)\n",
    "    "
   ]
  },
  {
   "cell_type": "code",
   "execution_count": null,
   "id": "c16963af",
   "metadata": {},
   "outputs": [],
   "source": [
    "E_VALUE_THRESH = 1e-20 \n",
    "for record in NCBIXML.parse(open(\"blast_output_nr.xml\")): \n",
    "     if record.alignments: \n",
    "        print(\"\\n\") \n",
    "        print(\"query: %s\" % record.query[:100]) \n",
    "        for align in record.alignments: \n",
    "            for hsp in align.hsps: \n",
    "                if hsp.expect < E_VALUE_THRESH:\n",
    "                    if \"Arabidopsis thaliana\" in align.title:\n",
    "                        print(\"match: %s \" % align.title[:100])"
   ]
  },
  {
   "cell_type": "markdown",
   "id": "49c4dd62",
   "metadata": {},
   "source": [
    "# Open when finished"
   ]
  },
  {
   "cell_type": "code",
   "execution_count": null,
   "id": "ea8a8344",
   "metadata": {},
   "outputs": [],
   "source": [
    "import webbrowser\n",
    "webbrowser.open_new('http://localhost:8888/notebooks/Documents/iGEM/iGEM/Run%20BLAST.ipynb')"
   ]
  },
  {
   "cell_type": "code",
   "execution_count": null,
   "id": "970026f1",
   "metadata": {},
   "outputs": [],
   "source": []
  }
 ],
 "metadata": {
  "kernelspec": {
   "display_name": "Python 3 (ipykernel)",
   "language": "python",
   "name": "python3"
  },
  "language_info": {
   "codemirror_mode": {
    "name": "ipython",
    "version": 3
   },
   "file_extension": ".py",
   "mimetype": "text/x-python",
   "name": "python",
   "nbconvert_exporter": "python",
   "pygments_lexer": "ipython3",
   "version": "3.8.11"
  }
 },
 "nbformat": 4,
 "nbformat_minor": 5
}
