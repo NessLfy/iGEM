{
 "cells": [
  {
   "cell_type": "code",
   "execution_count": 26,
   "id": "f861cb88",
   "metadata": {},
   "outputs": [],
   "source": [
    "from Bio.Blast import NCBIWWW\n",
    "from Bio.Blast import NCBIXML\n",
    "from Bio import SeqIO \n"
   ]
  },
  {
   "cell_type": "markdown",
   "id": "90408884",
   "metadata": {},
   "source": [
    "# Import the sequence(s)"
   ]
  },
  {
   "cell_type": "code",
   "execution_count": 50,
   "id": "c898d5b5",
   "metadata": {},
   "outputs": [
    {
     "data": {
      "text/plain": [
       "Seq('MKRGKDEEKILEPMFPRLHVNDADKGGPRAPPRNKMALYEQLSIPSQRFGDHGT...SKP', SingleLetterAlphabet())"
      ]
     },
     "execution_count": 50,
     "metadata": {},
     "output_type": "execute_result"
    }
   ],
   "source": [
    "seq_record = SeqIO.read('ELF3.fa','fasta')\n",
    "#seq_record.id \n",
    "seq_record.seq "
   ]
  },
  {
   "cell_type": "markdown",
   "id": "0431a594",
   "metadata": {},
   "source": [
    "# Call blast from the NCBI website"
   ]
  },
  {
   "cell_type": "code",
   "execution_count": 51,
   "id": "38161649",
   "metadata": {},
   "outputs": [],
   "source": [
    "result_handle = NCBIWWW.qblast(\"blastp\", \"nr\", seq_record.seq) "
   ]
  },
  {
   "cell_type": "markdown",
   "id": "1a9399d8",
   "metadata": {},
   "source": [
    "# Save and open the results"
   ]
  },
  {
   "cell_type": "code",
   "execution_count": 52,
   "id": "f75b2a3b",
   "metadata": {},
   "outputs": [
    {
     "name": "stdout",
     "output_type": "stream",
     "text": [
      "\n",
      "\n",
      "query: unnamed protein product\n",
      "match: ref|NP_180164.1| hydroxyproline-rich glycoprotein family protein [Arabidopsis thaliana] >sp|O82804.1 \n",
      "match: emb|VYS53527.1| unnamed protein product [Arabidopsis thaliana] \n",
      "match: gb|KAG7642078.1| hypothetical protein ISN44_As02g020390 [Arabidopsis suecica] \n",
      "match: gb|KAG7637467.1| hypothetical protein ISN45_At02g019970 [Arabidopsis thaliana x Arabidopsis arenosa] \n",
      "match: emb|CAA0371864.1| unnamed protein product [Arabidopsis thaliana] \n",
      "match: emb|CAA72719.1| nematode responsive protein [Arabidopsis thaliana] \n",
      "match: emb|CAD5319528.1| unnamed protein product [Arabidopsis thaliana] \n",
      "match: gb|OAP09466.1| PYK20 [Arabidopsis thaliana] \n",
      "match: gb|EFH55167.1| hypothetical protein ARALYDRAFT_481449 [Arabidopsis lyrata subsp. lyrata] \n",
      "match: emb|CAE6010521.1| unnamed protein product [Arabidopsis arenosa] \n",
      "match: gb|KAG7572294.1| hypothetical protein ISN44_As09g006620 [Arabidopsis suecica] \n",
      "match: ref|XP_020883196.1| protein EARLY FLOWERING 3 isoform X2 [Arabidopsis lyrata subsp. lyrata] \n",
      "match: gb|KAG7567818.1| hypothetical protein ISN45_Aa04g006560 [Arabidopsis thaliana x Arabidopsis arenosa] \n",
      "match: ref|XP_020883194.1| protein EARLY FLOWERING 3 isoform X1 [Arabidopsis lyrata subsp. lyrata] \n",
      "match: ref|XP_010429612.1| PREDICTED: protein EARLY FLOWERING 3 [Camelina sativa] \n",
      "match: ref|XP_006293368.1| protein EARLY FLOWERING 3 [Capsella rubella] >gb|EOA26266.1| hypothetical protei \n",
      "match: ref|XP_010472622.1| PREDICTED: protein EARLY FLOWERING 3-like [Camelina sativa] \n",
      "match: ref|XP_010417373.1| PREDICTED: protein EARLY FLOWERING 3-like [Camelina sativa] \n",
      "match: ref|XP_006408833.1| protein EARLY FLOWERING 3 isoform X2 [Eutrema salsugineum] >gb|ESQ50286.1| hypot \n",
      "match: emb|CAA7036847.1| unnamed protein product [Microthlaspi erraticum] \n",
      "match: ref|XP_024015987.1| protein EARLY FLOWERING 3 isoform X1 [Eutrema salsugineum] \n",
      "match: emb|CAH2060829.1| unnamed protein product, partial [Thlaspi arvense] \n",
      "match: gb|KAF8047731.1| hypothetical protein N665_2849s0002 [Sinapis alba] \n",
      "match: gb|AAM97051.1| unknown protein [Arabidopsis thaliana] >gb|AAN15504.1| unknown protein [Arabidopsis t \n",
      "match: gb|KAF3495261.1| hypothetical protein DY000_02056998 [Brassica cretica] \n",
      "match: gb|KAF8085585.1| hypothetical protein N665_0663s0029 [Sinapis alba] \n",
      "match: gb|RID47845.1| hypothetical protein BRARA_I04408 [Brassica rapa] \n",
      "match: ref|XP_013709873.1| protein EARLY FLOWERING 3-like [Brassica napus] \n",
      "match: ref|XP_013604828.1| PREDICTED: protein EARLY FLOWERING 3-like [Brassica oleracea var. oleracea] \n",
      "match: gb|KAH0865647.1| hypothetical protein HID58_082858 [Brassica napus] \n",
      "match: emb|CAF2113808.1| unnamed protein product [Brassica napus] \n",
      "match: emb|VDD58184.1| unnamed protein product [Brassica oleracea] \n",
      "match: gb|KAF3574077.1| hypothetical protein F2Q69_00062591 [Brassica cretica] \n",
      "match: emb|CAG7866329.1| unnamed protein product [Brassica rapa] >emb|VDC63333.1| unnamed protein product [ \n",
      "match: gb|KAG2259018.1| hypothetical protein Bca52824_078312 [Brassica carinata] \n",
      "match: ref|XP_013663999.1| protein EARLY FLOWERING 3 isoform X1 [Brassica napus] >emb|CAF2049361.1| unnamed \n",
      "match: gb|KAH0912668.1| hypothetical protein HID58_035989, partial [Brassica napus] \n",
      "match: ref|XP_018509557.1| protein EARLY FLOWERING 3 isoform X2 [Brassica rapa] \n",
      "match: gb|OAP09467.1| PYK20 [Arabidopsis thaliana] \n",
      "match: gb|KAG5386650.1| hypothetical protein IGI04_038120 [Brassica rapa subsp. trilocularis] \n",
      "match: gb|KAG5401529.1| hypothetical protein IGI04_016136 [Brassica rapa subsp. trilocularis] >gb|RID66436. \n",
      "match: gb|KAH0929848.1| hypothetical protein HID58_015575 [Brassica napus] >emb|CAF2281209.1| unnamed prote \n",
      "match: ref|XP_009140718.1| protein EARLY FLOWERING 3 [Brassica rapa] \n",
      "match: gb|KFK29903.1| early flowering 3 [Arabis alpina] \n",
      "match: gb|KAF8045637.1| hypothetical protein N665_4582s0001 [Sinapis alba] \n",
      "match: ref|XP_018483654.1| PREDICTED: protein EARLY FLOWERING 3 isoform X1 [Raphanus sativus] \n",
      "match: emb|CAG7907252.1| unnamed protein product [Brassica rapa] >emb|VDD13710.1| unnamed protein product [ \n",
      "match: ref|XP_022547044.1| protein EARLY FLOWERING 3 isoform X2 [Brassica napus] \n",
      "match: ref|NP_001288828.1| protein EARLY FLOWERING 3 [Brassica rapa] >gb|AEB33726.1| EARLY FLOWERING 3 [Bra \n",
      "match: ref|XP_018509556.1| protein EARLY FLOWERING 3 isoform X1 [Brassica rapa] \n"
     ]
    }
   ],
   "source": [
    "with open('results.xml', 'w') as save_file: \n",
    "    blast_results = result_handle.read() \n",
    "    save_file.write(blast_results)\n",
    "\n",
    "E_VALUE_THRESH = 1e-20 \n",
    "for record in NCBIXML.parse(open(\"results.xml\")): \n",
    "     if record.alignments: \n",
    "        print(\"\\n\") \n",
    "        print(\"query: %s\" % record.query[:100]) \n",
    "        for align in record.alignments: \n",
    "            for hsp in align.hsps: \n",
    "                if hsp.expect < E_VALUE_THRESH: \n",
    "                    print(\"match: %s \" % align.title[:100])\n",
    "                    "
   ]
  },
  {
   "cell_type": "code",
   "execution_count": null,
   "id": "a33d346f",
   "metadata": {},
   "outputs": [],
   "source": []
  }
 ],
 "metadata": {
  "kernelspec": {
   "display_name": "Python 3 (ipykernel)",
   "language": "python",
   "name": "python3"
  },
  "language_info": {
   "codemirror_mode": {
    "name": "ipython",
    "version": 3
   },
   "file_extension": ".py",
   "mimetype": "text/x-python",
   "name": "python",
   "nbconvert_exporter": "python",
   "pygments_lexer": "ipython3",
   "version": "3.8.11"
  }
 },
 "nbformat": 4,
 "nbformat_minor": 5
}
