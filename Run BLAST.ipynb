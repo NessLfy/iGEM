{
 "cells": [
  {
   "cell_type": "code",
   "execution_count": 1,
   "id": "f861cb88",
   "metadata": {},
   "outputs": [],
   "source": [
    "from Bio.Blast import NCBIWWW\n",
    "from Bio.Blast import NCBIXML\n",
    "from Bio import SeqIO \n",
    "import pandas as pd\n",
    "from Bio import Entrez\n",
    "import matplotlib.pyplot as plt"
   ]
  },
  {
   "cell_type": "markdown",
   "id": "90408884",
   "metadata": {},
   "source": [
    "# Import the sequence(s)"
   ]
  },
  {
   "cell_type": "code",
   "execution_count": 3,
   "id": "c898d5b5",
   "metadata": {},
   "outputs": [
    {
     "data": {
      "text/plain": [
       "Seq('TCCCAAGCCAAGGAAGGTTATGC', SingleLetterAlphabet())"
      ]
     },
     "execution_count": 3,
     "metadata": {},
     "output_type": "execute_result"
    }
   ],
   "source": [
    "seq_record = SeqIO.read('sequences/pathogens/house_keeping.fa','fasta')\n",
    "#seq_record.id \n",
    "seq_record.seq "
   ]
  },
  {
   "cell_type": "code",
   "execution_count": 4,
   "id": "e746ad1a",
   "metadata": {},
   "outputs": [
    {
     "data": {
      "text/plain": [
       "'AGGGTTCGGTTCCTTCCAATACG'"
      ]
     },
     "execution_count": 4,
     "metadata": {},
     "output_type": "execute_result"
    }
   ],
   "source": [
    "complement(seq_record.seq)"
   ]
  },
  {
   "cell_type": "markdown",
   "id": "9b2ee103",
   "metadata": {},
   "source": [
    "## Get the complement sequence"
   ]
  },
  {
   "cell_type": "code",
   "execution_count": 2,
   "id": "b251f7c6",
   "metadata": {},
   "outputs": [],
   "source": [
    "def complement(seq):\n",
    "    complement = {'A': 'T', 'C': 'G', 'G': 'C', 'T': 'A','a': 't', 'c': 'g', 'g': 'c', 't': 'a'} \n",
    "    bases = list(seq) \n",
    "    bases = [complement[base] for base in bases] \n",
    "    return ''.join(bases)"
   ]
  },
  {
   "cell_type": "code",
   "execution_count": 5,
   "id": "d8646864",
   "metadata": {},
   "outputs": [
    {
     "data": {
      "text/plain": [
       "'CCCGGGGACCTTGTCTTGAAGGTC'"
      ]
     },
     "execution_count": 5,
     "metadata": {},
     "output_type": "execute_result"
    }
   ],
   "source": [
    "complement('GGGCCCCTGGAACAGAACTTCCAG')"
   ]
  },
  {
   "cell_type": "markdown",
   "id": "e384f297",
   "metadata": {},
   "source": [
    "## Multiple sequences"
   ]
  },
  {
   "cell_type": "code",
   "execution_count": 3,
   "id": "6f6cdd51",
   "metadata": {},
   "outputs": [
    {
     "name": "stdout",
     "output_type": "stream",
     "text": [
      "8\n"
     ]
    }
   ],
   "source": [
    "sequ = list(SeqIO.parse('sequences/pathogens/110722_e_block_guides.fa','fasta'))\n",
    "sequ[0].seq\n",
    "\n",
    "seq = []\n",
    "\n",
    "for i in sequ:\n",
    "    seq.append(complement(i.seq))\n",
    "    \n",
    "print(len(sequ))"
   ]
  },
  {
   "cell_type": "code",
   "execution_count": 32,
   "id": "fc599802",
   "metadata": {},
   "outputs": [
    {
     "name": "stdout",
     "output_type": "stream",
     "text": [
      "tgcgatgttgtaccttaatagcgatctt\n",
      "ttctagcgataattccatgttgtagcgt\n"
     ]
    }
   ],
   "source": [
    "bases = ''.join(list(reversed('ttctagcgataattccatgttgtagcgt')))\n",
    "print(bases)\n",
    "print('ttctagcgataattccatgttgtagcgt')"
   ]
  },
  {
   "cell_type": "code",
   "execution_count": 36,
   "id": "929a771e",
   "metadata": {},
   "outputs": [
    {
     "name": "stdout",
     "output_type": "stream",
     "text": [
      "CGGTTTCTCCCCCTGGAAGCCCGGAGAG\n"
     ]
    }
   ],
   "source": [
    "print(complement('GCCAAAGAGGGGGACCTTCGGGCCTCTC'))"
   ]
  },
  {
   "cell_type": "code",
   "execution_count": 5,
   "id": "30131da9",
   "metadata": {},
   "outputs": [
    {
     "data": {
      "text/plain": [
       "ID                        EF1_alpha\n",
       "Seq    AACTAAAGTTGTTTAAATGTCCGTTATA\n",
       "Name: 1, dtype: object"
      ]
     },
     "execution_count": 5,
     "metadata": {},
     "output_type": "execute_result"
    }
   ],
   "source": [
    "df = pd.DataFrame()\n",
    "\n",
    "df['ID'] = [sequ[i].id for i in range(len(seq))]\n",
    "df['Seq'] = [seq[i] for i in range(len(seq))]\n",
    "\n",
    "df.iloc[1]"
   ]
  },
  {
   "cell_type": "markdown",
   "id": "0431a594",
   "metadata": {},
   "source": [
    "# Call blast from the NCBI website"
   ]
  },
  {
   "cell_type": "code",
   "execution_count": 6,
   "id": "38161649",
   "metadata": {
    "scrolled": true
   },
   "outputs": [
    {
     "name": "stdout",
     "output_type": "stream",
     "text": [
      "Trying sequence number 0...\n",
      "Done with sequence 0 !\n",
      "Trying sequence number 1...\n",
      "Done with sequence 1 !\n",
      "Trying sequence number 2...\n",
      "Done with sequence 2 !\n",
      "Trying sequence number 3...\n",
      "Done with sequence 3 !\n",
      "Trying sequence number 4...\n",
      "Done with sequence 4 !\n",
      "Trying sequence number 5...\n",
      "Done with sequence 5 !\n",
      "Trying sequence number 6...\n",
      "Done with sequence 6 !\n",
      "Trying sequence number 7...\n",
      "Done with sequence 7 !\n"
     ]
    }
   ],
   "source": [
    "result_handle = []\n",
    "\n",
    "Entrez.email = 'ness.louafi@gmail.com'\n",
    "\n",
    "for i in range(len(seq)):\n",
    "    print('Trying sequence number ' + str(i)+'...')\n",
    "    result_handle.append(NCBIWWW.qblast(\"blastn\", \"nt\", seq[i], hitlist_size = 20,expect=0.05))\n",
    "    print('Done with sequence ' + str(i) + ' !')\n",
    "    "
   ]
  },
  {
   "cell_type": "markdown",
   "id": "2726372a",
   "metadata": {},
   "source": [
    "NCBIWWW.qblast?\n",
    "\n"
   ]
  },
  {
   "cell_type": "code",
   "execution_count": 14,
   "id": "59abfbd5",
   "metadata": {},
   "outputs": [
    {
     "data": {
      "text/plain": [
       "'AACTAAAGTTGTTTAAATGTCCGTTATA'"
      ]
     },
     "execution_count": 14,
     "metadata": {},
     "output_type": "execute_result"
    }
   ],
   "source": [
    "seq[1]"
   ]
  },
  {
   "cell_type": "markdown",
   "id": "0caf528d",
   "metadata": {},
   "source": [
    "# Display the results"
   ]
  },
  {
   "cell_type": "code",
   "execution_count": 13,
   "id": "0fdf2faf",
   "metadata": {
    "scrolled": false
   },
   "outputs": [
    {
     "name": "stdout",
     "output_type": "stream",
     "text": [
      "\n",
      "\n",
      "results6\n",
      "match: gi|2256491757|gb|ON797082.1| Shewanella algae strain ROD100 16S ribosomal RNA gene, partial sequence \n",
      "e value: 0.000628579\n",
      "match: gi|2250022289|gb|ON705638.1| Shewanella algae strain ROD067 16S ribosomal RNA gene, partial sequence \n",
      "e value: 0.000628579\n",
      "match: gi|2239907349|gb|ON527592.1| Shewanella algae strain STJ2 16S ribosomal RNA gene, partial sequence \n",
      "e value: 0.000628579\n",
      "match: gi|2234295446|gb|ON406384.1| Shewanella algae strain Si10C 16S ribosomal RNA gene, partial sequence \n",
      "e value: 0.000628579\n",
      "match: gi|2234295443|gb|ON406381.1| Shewanella algae strain Si10 16S ribosomal RNA gene, partial sequence \n",
      "e value: 0.000628579\n",
      "match: gi|2234295429|gb|ON406367.1| Shewanella algae strain Si4B 16S ribosomal RNA gene, partial sequence \n",
      "e value: 0.000628579\n",
      "match: gi|2234295428|gb|ON406366.1| Shewanella algae strain Si4A 16S ribosomal RNA gene, partial sequence \n",
      "e value: 0.000628579\n",
      "match: gi|2234295420|gb|ON406358.1| Shewanella algae strain Si1 16S ribosomal RNA gene, partial sequence \n",
      "e value: 0.000628579\n",
      "match: gi|2231665325|gb|ON365757.1| Shewanella chilikensis strain YZF-10 16S ribosomal RNA gene, partial sequence \n",
      "e value: 0.000628579\n",
      "match: gi|2219924760|gb|ON181734.1| Shewanella algae strain HAt 16S ribosomal RNA gene, partial sequence \n",
      "e value: 0.000628579\n",
      "match: gi|2219924758|gb|ON181733.1| Shewanella chilikensis strain HAr 16S ribosomal RNA gene, partial sequence \n",
      "e value: 0.000628579\n",
      "match: gi|2212577770|gb|ON077062.1| Shewanella algae strain HAt 16S ribosomal RNA gene, partial sequence \n",
      "e value: 0.000628579\n",
      "match: gi|2212577769|gb|ON077061.1| Shewanella chilikensis strain HAr 16S ribosomal RNA gene, partial sequence \n",
      "e value: 0.000628579\n",
      "match: gi|2199610100|gb|OM836844.1| Vibrio sp. strain 51 16S ribosomal RNA gene, partial sequence \n",
      "e value: 0.000628579\n",
      "match: gi|2199610088|gb|OM836832.1| Vibrio sp. strain 39 16S ribosomal RNA gene, partial sequence \n",
      "e value: 0.000628579\n",
      "match: gi|2156809549|gb|OL672375.1| Enterovibrio sp. strain MA EN P2.7 16S ribosomal RNA gene, partial sequence \n",
      "e value: 0.000628579\n",
      "match: gi|2156809511|gb|OL672337.1| Enterovibrio sp. strain SWA EN P1.1 16S ribosomal RNA gene, partial sequence \n",
      "e value: 0.000628579\n",
      "match: gi|2129415920|gb|OL372642.1| Shewanella sp. strain A8 16S ribosomal RNA gene, partial sequence \n",
      "e value: 0.000628579\n",
      "match: gi|2127540938|gb|OL336829.1| Shewanella sp. strain A34 16S ribosomal RNA gene, partial sequence \n",
      "e value: 0.000628579\n",
      "match: gi|2126970479|gb|OL321151.1| Shewanella chilikensis strain A15 16S ribosomal RNA gene, partial sequence \n",
      "e value: 0.000628579\n",
      "\n",
      "\n",
      "results7\n",
      "match: gi|2258867381|gb|ON838106.1| Vibrio alginolyticus strain CEMTC_1316 16S ribosomal RNA gene, partial sequence \n",
      "e value: 0.000628579\n",
      "match: gi|2246884435|gb|ON644544.1| Vibrio hyugaensis strain LUM05 16S ribosomal RNA gene, partial sequence \n",
      "e value: 0.000628579\n",
      "match: gi|2246884434|gb|ON644543.1| Vibrio owensii strain LUM04 16S ribosomal RNA gene, partial sequence \n",
      "e value: 0.000628579\n",
      "match: gi|2246884433|gb|ON644542.1| Vibrio owensii strain LUM01 16S ribosomal RNA gene, partial sequence \n",
      "e value: 0.000628579\n",
      "match: gi|2249081995|gb|CP098034.1| Vibrio alginolyticus strain E110 chromosome 2, complete sequence \n",
      "e value: 0.000628579\n",
      "match: gi|2249081995|gb|CP098034.1| Vibrio alginolyticus strain E110 chromosome 2, complete sequence \n",
      "e value: 0.000628579\n",
      "match: gi|2249081995|gb|CP098034.1| Vibrio alginolyticus strain E110 chromosome 2, complete sequence \n",
      "e value: 0.000628579\n",
      "match: gi|2249081995|gb|CP098034.1| Vibrio alginolyticus strain E110 chromosome 2, complete sequence \n",
      "e value: 0.000628579\n",
      "match: gi|2249081995|gb|CP098034.1| Vibrio alginolyticus strain E110 chromosome 2, complete sequence \n",
      "e value: 0.000628579\n",
      "match: gi|2249081995|gb|CP098034.1| Vibrio alginolyticus strain E110 chromosome 2, complete sequence \n",
      "e value: 0.000628579\n",
      "match: gi|2249081995|gb|CP098034.1| Vibrio alginolyticus strain E110 chromosome 2, complete sequence \n",
      "e value: 0.000628579\n",
      "match: gi|2249081995|gb|CP098034.1| Vibrio alginolyticus strain E110 chromosome 2, complete sequence \n",
      "e value: 0.000628579\n",
      "match: gi|2249081995|gb|CP098034.1| Vibrio alginolyticus strain E110 chromosome 2, complete sequence \n",
      "e value: 0.000628579\n",
      "match: gi|2249081995|gb|CP098034.1| Vibrio alginolyticus strain E110 chromosome 2, complete sequence \n",
      "e value: 0.000628579\n",
      "match: gi|2249081995|gb|CP098034.1| Vibrio alginolyticus strain E110 chromosome 2, complete sequence \n",
      "e value: 0.0267279\n",
      "match: gi|2249080430|gb|CP098033.1| Vibrio alginolyticus strain E110 chromosome 1, complete sequence \n",
      "e value: 0.000628579\n",
      "match: gi|2239907451|gb|ON527643.1| Vibrio sp. strain XMS1 16S ribosomal RNA gene, partial sequence \n",
      "e value: 0.000628579\n",
      "match: gi|2239907449|gb|ON527642.1| Vibrio sp. strain MDEF5 16S ribosomal RNA gene, partial sequence \n",
      "e value: 0.000628579\n",
      "match: gi|2239907445|gb|ON527640.1| Vibrio sp. strain XY3-1 16S ribosomal RNA gene, partial sequence \n",
      "e value: 0.000628579\n",
      "match: gi|2239907442|gb|ON527638.1| Vibrio sp. strain JSW-GREEN 16S ribosomal RNA gene, partial sequence \n",
      "e value: 0.000628579\n",
      "match: gi|2239907440|gb|ON527637.1| Vibrio sp. strain XY11 16S ribosomal RNA gene, partial sequence \n",
      "e value: 0.000628579\n",
      "match: gi|2239907439|gb|ON527636.1| Vibrio sp. strain XY10 16S ribosomal RNA gene, partial sequence \n",
      "e value: 0.000628579\n",
      "match: gi|2241258201|gb|ON564507.1| Vibrio rhodolitus strain DXB14 16S ribosomal RNA gene, partial sequence \n",
      "e value: 0.000628579\n",
      "match: gi|2241258200|gb|ON564506.1| Vibrio rhodolitus strain DXB13 16S ribosomal RNA gene, partial sequence \n",
      "e value: 0.000628579\n",
      "match: gi|2241258198|gb|ON564504.1| Vibrio rhodolitus strain DXB11 16S ribosomal RNA gene, partial sequence \n",
      "e value: 0.000628579\n",
      "match: gi|2241258197|gb|ON564503.1| Vibrio ponticus strain DXB10 16S ribosomal RNA gene, partial sequence \n",
      "e value: 0.000628579\n",
      "match: gi|2241258192|gb|ON564498.1| Vibrio ponticus strain DXB05 16S ribosomal RNA gene, partial sequence \n",
      "e value: 0.000628579\n",
      "match: gi|2241258191|gb|ON564497.1| Vibrio ponticus strain DXB04 16S ribosomal RNA gene, partial sequence \n",
      "e value: 0.000628579\n",
      "match: gi|2239925011|gb|ON527719.1| Vibrio neocaledonicus strain MMRF2252 16S ribosomal RNA gene, partial sequence \n",
      "e value: 0.000628579\n",
      "match: gi|2239924988|gb|ON527696.1| Vibrio neocaledonicus strain MMRF2229 16S ribosomal RNA gene, partial sequence \n",
      "e value: 0.000628579\n"
     ]
    },
    {
     "data": {
      "text/plain": [
       "\"          \\n    for alignment in record.alignments:\\n        for hsp in alignment.hsps:\\n            if hsp.expect < 0.05:\\n                print('****Alignment****')\\n                #print('length:', alignment.length)\\n                print('e value:', hsp.expect)\\n                #print(hsp.query[0:75] + '   ')\\n                #print(hsp.match[0:75] + '   ')\\n                #print(hsp.sbjct[0:75] + '   ')\\n\""
      ]
     },
     "execution_count": 13,
     "metadata": {},
     "output_type": "execute_result"
    }
   ],
   "source": [
    "'''\n",
    "for i in range(len(result_handle)):\n",
    "    with open('results/110722/e_block_sequences_'+str(i)+'.xml', 'w') as save_file: \n",
    "        blast_results = result_handle[i].read() \n",
    "        save_file.write(blast_results)\n",
    "'''     \n",
    "\n",
    "for i in range(8):\n",
    "    for record in NCBIXML.parse(open(\"results/110722/e_block_sequences_\"+str(i)+\".xml\")): \n",
    "         if record.alignments: \n",
    "            print(\"\\n\") \n",
    "            #print(df['ID'][i])\n",
    "            print(\"results\"+str(i))\n",
    "            for align in record.alignments: \n",
    "                for hsp in align.hsps: \n",
    "                    if hsp.expect < 100:\n",
    "\n",
    "                        print(\"match: %s \" % align.title[:120])\n",
    "                        print('e value:', hsp.expect)\n",
    "                        \n",
    "                    #print('e value:', hsp.expect)\n",
    "'''          \n",
    "    for alignment in record.alignments:\n",
    "        for hsp in alignment.hsps:\n",
    "            if hsp.expect < 0.05:\n",
    "                print('****Alignment****')\n",
    "                #print('length:', alignment.length)\n",
    "                print('e value:', hsp.expect)\n",
    "                #print(hsp.query[0:75] + '   ')\n",
    "                #print(hsp.match[0:75] + '   ')\n",
    "                #print(hsp.sbjct[0:75] + '   ')\n",
    "'''           "
   ]
  },
  {
   "cell_type": "markdown",
   "id": "227ee7f9",
   "metadata": {},
   "source": [
    "Put all the rsult per query in a dataframe (use the one defined above) and then find a way to characterize the species of each hit to try and filter the results.\n",
    "\n",
    "The impression is that many sequences have 16s hits.... "
   ]
  },
  {
   "cell_type": "code",
   "execution_count": 14,
   "id": "e0602c96",
   "metadata": {
    "scrolled": false
   },
   "outputs": [
    {
     "ename": "AttributeError",
     "evalue": "'list' object has no attribute 'expect'",
     "output_type": "error",
     "traceback": [
      "\u001b[1;31m---------------------------------------------------------------------------\u001b[0m",
      "\u001b[1;31mAttributeError\u001b[0m                            Traceback (most recent call last)",
      "\u001b[1;32m~\\AppData\\Local\\Temp/ipykernel_17744/760922613.py\u001b[0m in \u001b[0;36m<module>\u001b[1;34m\u001b[0m\n\u001b[0;32m      8\u001b[0m             \u001b[1;31m#print(e_val)\u001b[0m\u001b[1;33m\u001b[0m\u001b[1;33m\u001b[0m\u001b[1;33m\u001b[0m\u001b[0m\n\u001b[0;32m      9\u001b[0m             \u001b[0malign_organism\u001b[0m\u001b[1;33m.\u001b[0m\u001b[0mappend\u001b[0m\u001b[1;33m(\u001b[0m\u001b[0malign\u001b[0m\u001b[1;33m.\u001b[0m\u001b[0mhit_def\u001b[0m\u001b[1;33m)\u001b[0m\u001b[1;33m\u001b[0m\u001b[1;33m\u001b[0m\u001b[0m\n\u001b[1;32m---> 10\u001b[1;33m             \u001b[0me_val\u001b[0m\u001b[1;33m.\u001b[0m\u001b[0mappend\u001b[0m\u001b[1;33m(\u001b[0m\u001b[0malign\u001b[0m\u001b[1;33m.\u001b[0m\u001b[0mhsps\u001b[0m\u001b[1;33m.\u001b[0m\u001b[0mexpect\u001b[0m\u001b[1;33m)\u001b[0m\u001b[1;33m\u001b[0m\u001b[1;33m\u001b[0m\u001b[0m\n\u001b[0m\u001b[0;32m     11\u001b[0m         \u001b[0mprint\u001b[0m\u001b[1;33m(\u001b[0m\u001b[0me_val\u001b[0m\u001b[1;33m)\u001b[0m\u001b[1;33m\u001b[0m\u001b[1;33m\u001b[0m\u001b[0m\n\u001b[0;32m     12\u001b[0m         \u001b[1;31m#df.at[i,\"Matches\"] = align_organism\u001b[0m\u001b[1;33m\u001b[0m\u001b[1;33m\u001b[0m\u001b[1;33m\u001b[0m\u001b[0m\n",
      "\u001b[1;31mAttributeError\u001b[0m: 'list' object has no attribute 'expect'"
     ]
    }
   ],
   "source": [
    "df[\"Matches\"] = \"\"\n",
    "\n",
    "for i in range(15):\n",
    "    for record in NCBIXML.parse(open(\"results/vibrio_16s/corrected_analysis/corrected_\"+str(i)+\".xml\")): \n",
    "        align_organism = []\n",
    "        e_val = []\n",
    "        for align in record.alignments: \n",
    "            #print(e_val)\n",
    "            align_organism.append(align.hit_def)\n",
    "            e_val.append(align.hsps.expect)\n",
    "        print(e_val)\n",
    "        #df.at[i,\"Matches\"] = align_organism\n",
    "        #df.at[i,\"e_Value\"] = e_val\n",
    "df"
   ]
  },
  {
   "cell_type": "code",
   "execution_count": 9,
   "id": "a42a0056",
   "metadata": {},
   "outputs": [
    {
     "data": {
      "text/html": [
       "<div>\n",
       "<style scoped>\n",
       "    .dataframe tbody tr th:only-of-type {\n",
       "        vertical-align: middle;\n",
       "    }\n",
       "\n",
       "    .dataframe tbody tr th {\n",
       "        vertical-align: top;\n",
       "    }\n",
       "\n",
       "    .dataframe thead th {\n",
       "        text-align: right;\n",
       "    }\n",
       "</style>\n",
       "<table border=\"1\" class=\"dataframe\">\n",
       "  <thead>\n",
       "    <tr style=\"text-align: right;\">\n",
       "      <th></th>\n",
       "      <th>ID</th>\n",
       "      <th>Seq</th>\n",
       "      <th>Matches</th>\n",
       "      <th>e_Value</th>\n",
       "    </tr>\n",
       "  </thead>\n",
       "  <tbody>\n",
       "    <tr>\n",
       "      <th>0</th>\n",
       "      <td>G_01</td>\n",
       "      <td>ggtaacatttcaaaagcttgcttttgaa</td>\n",
       "      <td>[Shewanella algae strain ROD067 16S ribosomal ...</td>\n",
       "      <td>NaN</td>\n",
       "    </tr>\n",
       "    <tr>\n",
       "      <th>1</th>\n",
       "      <td>G_02</td>\n",
       "      <td>gttgtaaagtactttcagtcgtgaggaa</td>\n",
       "      <td></td>\n",
       "      <td>NaN</td>\n",
       "    </tr>\n",
       "    <tr>\n",
       "      <th>2</th>\n",
       "      <td>G_03</td>\n",
       "      <td>gggtagaatttcaggtgtagcggtgaaa</td>\n",
       "      <td></td>\n",
       "      <td>NaN</td>\n",
       "    </tr>\n",
       "    <tr>\n",
       "      <th>3</th>\n",
       "      <td>G_04</td>\n",
       "      <td>ggggataaccattggaaacgatggctaa</td>\n",
       "      <td></td>\n",
       "      <td>NaN</td>\n",
       "    </tr>\n",
       "    <tr>\n",
       "      <th>4</th>\n",
       "      <td>G_05</td>\n",
       "      <td>tattgcacaatgggcgcaagcctgatgc</td>\n",
       "      <td></td>\n",
       "      <td>NaN</td>\n",
       "    </tr>\n",
       "    <tr>\n",
       "      <th>5</th>\n",
       "      <td>G_06</td>\n",
       "      <td>gtattctttgacgttagcgacagaagaa</td>\n",
       "      <td></td>\n",
       "      <td>NaN</td>\n",
       "    </tr>\n",
       "    <tr>\n",
       "      <th>6</th>\n",
       "      <td>G_07</td>\n",
       "      <td>tgatagaaatcaaggggatgcaagcgct</td>\n",
       "      <td></td>\n",
       "      <td>NaN</td>\n",
       "    </tr>\n",
       "    <tr>\n",
       "      <th>7</th>\n",
       "      <td>G_08</td>\n",
       "      <td>cttatgatcaatatggtcatgcagcctt</td>\n",
       "      <td></td>\n",
       "      <td>NaN</td>\n",
       "    </tr>\n",
       "    <tr>\n",
       "      <th>8</th>\n",
       "      <td>G_09</td>\n",
       "      <td>acattttcggtgatgtctttggtgatat</td>\n",
       "      <td></td>\n",
       "      <td>NaN</td>\n",
       "    </tr>\n",
       "    <tr>\n",
       "      <th>9</th>\n",
       "      <td>G_10</td>\n",
       "      <td>acgctacaacatggaattatcgctagaa</td>\n",
       "      <td></td>\n",
       "      <td>NaN</td>\n",
       "    </tr>\n",
       "    <tr>\n",
       "      <th>10</th>\n",
       "      <td>G_11</td>\n",
       "      <td>gattagataccctggtagtccacgccgt</td>\n",
       "      <td></td>\n",
       "      <td>NaN</td>\n",
       "    </tr>\n",
       "    <tr>\n",
       "      <th>11</th>\n",
       "      <td>G_12</td>\n",
       "      <td>gagcatgtggtttaattcgatgcaacgc</td>\n",
       "      <td></td>\n",
       "      <td>NaN</td>\n",
       "    </tr>\n",
       "    <tr>\n",
       "      <th>12</th>\n",
       "      <td>G_13</td>\n",
       "      <td>gatatccttgtttgccagcgagtaatgt</td>\n",
       "      <td></td>\n",
       "      <td>NaN</td>\n",
       "    </tr>\n",
       "    <tr>\n",
       "      <th>13</th>\n",
       "      <td>G_14</td>\n",
       "      <td>aatcgtggatcagaatgccacggtgaat</td>\n",
       "      <td></td>\n",
       "      <td>NaN</td>\n",
       "    </tr>\n",
       "    <tr>\n",
       "      <th>14</th>\n",
       "      <td>G_15</td>\n",
       "      <td>gtgggtagtttaacctttcggggaggac</td>\n",
       "      <td></td>\n",
       "      <td>NaN</td>\n",
       "    </tr>\n",
       "  </tbody>\n",
       "</table>\n",
       "</div>"
      ],
      "text/plain": [
       "      ID                           Seq  \\\n",
       "0   G_01  ggtaacatttcaaaagcttgcttttgaa   \n",
       "1   G_02  gttgtaaagtactttcagtcgtgaggaa   \n",
       "2   G_03  gggtagaatttcaggtgtagcggtgaaa   \n",
       "3   G_04  ggggataaccattggaaacgatggctaa   \n",
       "4   G_05  tattgcacaatgggcgcaagcctgatgc   \n",
       "5   G_06  gtattctttgacgttagcgacagaagaa   \n",
       "6   G_07  tgatagaaatcaaggggatgcaagcgct   \n",
       "7   G_08  cttatgatcaatatggtcatgcagcctt   \n",
       "8   G_09  acattttcggtgatgtctttggtgatat   \n",
       "9   G_10  acgctacaacatggaattatcgctagaa   \n",
       "10  G_11  gattagataccctggtagtccacgccgt   \n",
       "11  G_12  gagcatgtggtttaattcgatgcaacgc   \n",
       "12  G_13  gatatccttgtttgccagcgagtaatgt   \n",
       "13  G_14  aatcgtggatcagaatgccacggtgaat   \n",
       "14  G_15  gtgggtagtttaacctttcggggaggac   \n",
       "\n",
       "                                              Matches  e_Value  \n",
       "0   [Shewanella algae strain ROD067 16S ribosomal ...      NaN  \n",
       "1                                                          NaN  \n",
       "2                                                          NaN  \n",
       "3                                                          NaN  \n",
       "4                                                          NaN  \n",
       "5                                                          NaN  \n",
       "6                                                          NaN  \n",
       "7                                                          NaN  \n",
       "8                                                          NaN  \n",
       "9                                                          NaN  \n",
       "10                                                         NaN  \n",
       "11                                                         NaN  \n",
       "12                                                         NaN  \n",
       "13                                                         NaN  \n",
       "14                                                         NaN  "
      ]
     },
     "execution_count": 9,
     "metadata": {},
     "output_type": "execute_result"
    }
   ],
   "source": [
    "df"
   ]
  },
  {
   "cell_type": "markdown",
   "id": "0895eb1b",
   "metadata": {},
   "source": [
    "Now the idea is for each match, take the organism (class) from the NCBI accession and then be able to plot the kind of output we got per sequence "
   ]
  },
  {
   "cell_type": "code",
   "execution_count": 55,
   "id": "79e6c09c",
   "metadata": {},
   "outputs": [
    {
     "ename": "TypeError",
     "evalue": "esearch() missing 1 required positional argument: 'term'",
     "output_type": "error",
     "traceback": [
      "\u001b[1;31m---------------------------------------------------------------------------\u001b[0m",
      "\u001b[1;31mTypeError\u001b[0m                                 Traceback (most recent call last)",
      "\u001b[1;32m~\\AppData\\Local\\Temp/ipykernel_19792/2093870407.py\u001b[0m in \u001b[0;36m<module>\u001b[1;34m\u001b[0m\n\u001b[0;32m      3\u001b[0m \u001b[0mEntrez\u001b[0m\u001b[1;33m.\u001b[0m\u001b[0memail\u001b[0m \u001b[1;33m=\u001b[0m \u001b[1;34m'ness.louafi@gmail.com'\u001b[0m\u001b[1;33m\u001b[0m\u001b[1;33m\u001b[0m\u001b[0m\n\u001b[0;32m      4\u001b[0m \u001b[1;33m\u001b[0m\u001b[0m\n\u001b[1;32m----> 5\u001b[1;33m \u001b[0mhandle\u001b[0m \u001b[1;33m=\u001b[0m \u001b[0mEntrez\u001b[0m\u001b[1;33m.\u001b[0m\u001b[0mesearch\u001b[0m\u001b[1;33m(\u001b[0m\u001b[0mdb\u001b[0m\u001b[1;33m=\u001b[0m\u001b[1;34m\"nt\"\u001b[0m\u001b[1;33m,\u001b[0m\u001b[0maccession\u001b[0m\u001b[1;33m=\u001b[0m\u001b[0malign_organism\u001b[0m\u001b[1;33m[\u001b[0m\u001b[1;36m0\u001b[0m\u001b[1;33m]\u001b[0m\u001b[1;33m)\u001b[0m\u001b[1;33m\u001b[0m\u001b[1;33m\u001b[0m\u001b[0m\n\u001b[0m\u001b[0;32m      6\u001b[0m \u001b[0mprint\u001b[0m\u001b[1;33m(\u001b[0m\u001b[0mhandle\u001b[0m\u001b[1;33m)\u001b[0m\u001b[1;33m\u001b[0m\u001b[1;33m\u001b[0m\u001b[0m\n",
      "\u001b[1;31mTypeError\u001b[0m: esearch() missing 1 required positional argument: 'term'"
     ]
    }
   ],
   "source": [
    "align_organism\n",
    "\n",
    "Entrez.email = 'ness.louafi@gmail.com'\n",
    "\n",
    "handle = Entrez.esearch(db=\"nt\",accession=align_organism[0])\n",
    "print(handle)"
   ]
  },
  {
   "cell_type": "code",
   "execution_count": null,
   "id": "50fe7a23",
   "metadata": {},
   "outputs": [],
   "source": [
    "help(NCBIWWW.qblast)"
   ]
  },
  {
   "cell_type": "code",
   "execution_count": 29,
   "id": "626df2ca",
   "metadata": {
    "scrolled": true
   },
   "outputs": [
    {
     "name": "stdout",
     "output_type": "stream",
     "text": [
      "0\n",
      "0\n",
      "<_io.StringIO object at 0x000002A56D3F01F0>\n",
      "1\n",
      "1\n",
      "<_io.StringIO object at 0x000002A56D4020D0>\n",
      "2\n",
      "2\n",
      "<_io.StringIO object at 0x000002A56D33F940>\n",
      "3\n",
      "3\n",
      "<_io.StringIO object at 0x000002A56A1C4D30>\n",
      "4\n",
      "4\n",
      "<_io.StringIO object at 0x000002A56A1F8670>\n",
      "5\n",
      "5\n",
      "<_io.StringIO object at 0x000002A56D4021F0>\n",
      "6\n",
      "6\n",
      "<_io.StringIO object at 0x000002A56D3BC3A0>\n",
      "7\n",
      "7\n",
      "<_io.StringIO object at 0x000002A56D3BC1F0>\n",
      "8\n",
      "8\n",
      "<_io.StringIO object at 0x000002A56D3BCCA0>\n",
      "9\n",
      "9\n",
      "<_io.StringIO object at 0x000002A56D65D0D0>\n"
     ]
    }
   ],
   "source": [
    "from Bio import Entrez\n",
    "from urllib.error import URLError\n",
    "import time\n",
    "\n",
    "Entrez.email = 'ness.louafi@gmail.com'\n",
    "counter = 0 \n",
    "list_record_host = []\n",
    "for record in SeqIO.parse(\"sequences/test/sequences_10.fa\", format=\"fasta\"):\n",
    "    print(record.id)\n",
    "    print(counter)\n",
    "    counter+=1\n",
    "#         print(record.seq)\n",
    "\n",
    "    # online request\n",
    "    try:\n",
    "        result_handle = NCBIWWW.qblast(\"blastn\",\"nt\",record.seq, hitlist_size = 10)\n",
    "        print(result_handle)\n",
    "    except HTTPError:\n",
    "        time.sleep(5)\n",
    "        result_handle = NCBIWWW.qblast(\"blastn\",\"nt\",record.seq, hitlist_size = 10)\n",
    "\n",
    "    # result handle stored in a list\n",
    "    list_record_host.append(result_handle)"
   ]
  },
  {
   "cell_type": "code",
   "execution_count": 30,
   "id": "fbaec888",
   "metadata": {},
   "outputs": [],
   "source": [
    "for i in range(len(list_record_host)):\n",
    "    with open('results/results'+str(i)+'.xml', 'w') as save_file: \n",
    "        blast_results = result_handle.read() \n",
    "        save_file.write(blast_results)"
   ]
  },
  {
   "cell_type": "markdown",
   "id": "1a9399d8",
   "metadata": {},
   "source": [
    "# Save and open the results"
   ]
  },
  {
   "cell_type": "code",
   "execution_count": null,
   "id": "f75b2a3b",
   "metadata": {
    "scrolled": true
   },
   "outputs": [],
   "source": [
    "for i in range(50):\n",
    "    with open('results'+str(i)+'.xml', 'w') as save_file: \n",
    "        blast_results = result_handle.read() \n",
    "        save_file.write(blast_results)\n",
    "\n",
    "E_VALUE_THRESH = 1e-20 \n",
    "for record in NCBIXML.parse(open(\"results.xml\")): \n",
    "     if record.alignments: \n",
    "        print(\"\\n\") \n",
    "        print(\"query: %s\" % record.query[:100]) \n",
    "        for align in record.alignments: \n",
    "            for hsp in align.hsps: \n",
    "                if hsp.expect < E_VALUE_THRESH: \n",
    "                    print(\"match: %s \" % align.title[:100])"
   ]
  },
  {
   "cell_type": "code",
   "execution_count": null,
   "id": "a33d346f",
   "metadata": {},
   "outputs": [],
   "source": [
    "blast_params = {'program': 'blastp', 'database': 'nr', 'sequence': seq_record.seq, 'expect': 10.0}\n",
    "blast_params['database'] = ['nr']\n",
    "print_data = pd.DataFrame()\n",
    "for database in blast_params['database']:\n",
    "    db_values = {}\n",
    "    result = NCBIWWW.qblast(blast_params['program'], database, blast_params['sequence'], expect=blast_params['expect'])\n",
    "    file_name = \"blast_output_\" + database + \".xml\"\n",
    "    with open(file_name, \"w\") as output_xml:\n",
    "        output_xml.write(result.read())\n",
    "    result.close()\n",
    "    result_input = open(file_name)\n",
    "    blast_records = NCBIXML.read(result_input)\n",
    "    for description in blast_records.descriptions:\n",
    "        if 'score' in db_values:\n",
    "            db_values['score'].append(description.score)\n",
    "        else:\n",
    "            db_values['score'] = [description.score]\n",
    "        if 'e-value' in db_values:\n",
    "            db_values['e-value'].append(description.e)\n",
    "        else:\n",
    "            db_values['e-value'] = [description.e]\n",
    "    df = pd.DataFrame.from_dict(db_values)\n",
    "    df['database'] = database[0:6] # we simply limit the name to the first 6 characters for easier viewing\n",
    "    frames = [print_data, df]\n",
    "    print_data = pd.concat(frames, ignore_index=True)\n",
    "    "
   ]
  },
  {
   "cell_type": "code",
   "execution_count": null,
   "id": "c16963af",
   "metadata": {},
   "outputs": [],
   "source": [
    "E_VALUE_THRESH = 1e-20 \n",
    "for record in NCBIXML.parse(open(\"blast_output_nr.xml\")): \n",
    "     if record.alignments: \n",
    "        print(\"\\n\") \n",
    "        print(\"query: %s\" % record.query[:100]) \n",
    "        for align in record.alignments: \n",
    "            for hsp in align.hsps: \n",
    "                if hsp.expect < E_VALUE_THRESH:\n",
    "                    if \"Arabidopsis thaliana\" in align.title:\n",
    "                        print(\"match: %s \" % align.title[:100])"
   ]
  },
  {
   "cell_type": "markdown",
   "id": "49c4dd62",
   "metadata": {},
   "source": [
    "# Open when finished"
   ]
  },
  {
   "cell_type": "code",
   "execution_count": null,
   "id": "ea8a8344",
   "metadata": {},
   "outputs": [],
   "source": [
    "import webbrowser\n",
    "webbrowser.open_new('http://localhost:8888/notebooks/Documents/iGEM/iGEM/Run%20BLAST.ipynb')"
   ]
  },
  {
   "cell_type": "code",
   "execution_count": null,
   "id": "970026f1",
   "metadata": {},
   "outputs": [],
   "source": []
  }
 ],
 "metadata": {
  "kernelspec": {
   "display_name": "Python 3 (ipykernel)",
   "language": "python",
   "name": "python3"
  },
  "language_info": {
   "codemirror_mode": {
    "name": "ipython",
    "version": 3
   },
   "file_extension": ".py",
   "mimetype": "text/x-python",
   "name": "python",
   "nbconvert_exporter": "python",
   "pygments_lexer": "ipython3",
   "version": "3.8.11"
  }
 },
 "nbformat": 4,
 "nbformat_minor": 5
}
