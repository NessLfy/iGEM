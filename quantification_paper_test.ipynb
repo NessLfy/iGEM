{
 "cells": [
  {
   "cell_type": "code",
   "execution_count": 1,
   "id": "b6993e52",
   "metadata": {},
   "outputs": [
    {
     "name": "stderr",
     "output_type": "stream",
     "text": [
      "C:\\Users\\nessl\\anaconda3\\lib\\site-packages\\scipy\\__init__.py:146: UserWarning: A NumPy version >=1.16.5 and <1.23.0 is required for this version of SciPy (detected version 1.23.0\n",
      "  warnings.warn(f\"A NumPy version >={np_minversion} and <{np_maxversion}\"\n"
     ]
    }
   ],
   "source": [
    "import pandas as pd\n",
    "import seaborn as sns\n",
    "import matplotlib.pyplot as plt\n",
    "import numpy as np\n",
    "from matplotlib.pyplot import Figure\n",
    "import warnings\n",
    "import os"
   ]
  },
  {
   "cell_type": "code",
   "execution_count": 2,
   "id": "e62f2152",
   "metadata": {},
   "outputs": [],
   "source": [
    "warnings.filterwarnings('ignore')"
   ]
  },
  {
   "cell_type": "code",
   "execution_count": 3,
   "id": "da741ab9",
   "metadata": {},
   "outputs": [],
   "source": [
    "results = pd.read_csv(\"results/paper_test/results.csv\")"
   ]
  },
  {
   "cell_type": "code",
   "execution_count": 4,
   "id": "ed53748d",
   "metadata": {},
   "outputs": [
    {
     "data": {
      "text/plain": [
       "[186.41, 99.17, 187.65, 200.29, 99.54, 112.56]"
      ]
     },
     "execution_count": 4,
     "metadata": {},
     "output_type": "execute_result"
    }
   ],
   "source": [
    "intensities = list(results.Mean)\n",
    "intensities"
   ]
  },
  {
   "cell_type": "code",
   "execution_count": 5,
   "id": "9f6300e0",
   "metadata": {},
   "outputs": [
    {
     "data": {
      "text/plain": [
       "[87.24, 0.0, 88.48, 100.74999999999999, 0.0, 13.019999999999996]"
      ]
     },
     "execution_count": 5,
     "metadata": {},
     "output_type": "execute_result"
    }
   ],
   "source": [
    "bck = intensities[1]\n",
    "bck_2 = intensities[4]\n",
    "\n",
    "for i in range(3):\n",
    "    intensities[i] = intensities[i]-bck\n",
    "    \n",
    "for i in range(3,6):\n",
    "    intensities[i] = intensities[i]-bck_2\n",
    "\n",
    "intensities"
   ]
  },
  {
   "cell_type": "code",
   "execution_count": 6,
   "id": "742c1400",
   "metadata": {},
   "outputs": [
    {
     "data": {
      "image/png": "[encoded data removed]",
      "text/plain": [
       "<Figure size 720x360 with 1 Axes>"
      ]
     },
     "metadata": {
      "needs_background": "light"
     },
     "output_type": "display_data"
    }
   ],
   "source": [
    "plt.figure(figsize=(10,5))\n",
    "sns.barplot([i for i in range(len(intensities))],intensities)\n",
    "plt.xticks([i for i in range(len(intensities))],['Control','Background','Test','Control_NC','Background_NC','Test_NC'],rotation= 20)\n",
    "plt.ylabel(\"Intensity (A.U)\")\n",
    "plt.tight_layout()\n",
    "#plt.savefig('test.png',dpi=300)\n",
    "plt.show()"
   ]
  },
  {
   "cell_type": "code",
   "execution_count": 66,
   "id": "ffa5e4e3",
   "metadata": {},
   "outputs": [],
   "source": [
    "results_2 = pd.read_csv(\"results/paper_test/resultspt_2.csv\")"
   ]
  },
  {
   "cell_type": "code",
   "execution_count": 67,
   "id": "119c58e6",
   "metadata": {},
   "outputs": [
    {
     "name": "stdout",
     "output_type": "stream",
     "text": [
      "[153.04, 38.73, 92.21, 154.17, 49.16, 162.19, 183.19, 89.73, 184.22, 171.5, 48.55, 69.04, 171.34, 47.09, 71.45, 197.95, 85.29, 109.53]\n"
     ]
    }
   ],
   "source": [
    "intensity = list(results_2.Mean)\n",
    "print(intensity)"
   ]
  },
  {
   "cell_type": "code",
   "execution_count": 68,
   "id": "2cbc5e82",
   "metadata": {},
   "outputs": [
    {
     "data": {
      "text/plain": [
       "18"
      ]
     },
     "execution_count": 68,
     "metadata": {},
     "output_type": "execute_result"
    }
   ],
   "source": [
    "len(intensity)"
   ]
  },
  {
   "cell_type": "code",
   "execution_count": 69,
   "id": "9c520053",
   "metadata": {},
   "outputs": [
    {
     "name": "stdout",
     "output_type": "stream",
     "text": [
      "[38.73, 49.16, 89.73, 48.55, 47.09, 85.29]\n"
     ]
    }
   ],
   "source": [
    "bck = []\n",
    "counter = 0\n",
    "for i in range(len(intensity)):\n",
    "    if counter == 3:\n",
    "        counter = 0\n",
    "        bck.append(intensity[i-2])\n",
    "    counter+=1\n",
    "\n",
    "bck.append(intensity[-2])\n",
    "print(bck)"
   ]
  },
  {
   "cell_type": "code",
   "execution_count": 70,
   "id": "e8a433aa",
   "metadata": {},
   "outputs": [
    {
     "name": "stdout",
     "output_type": "stream",
     "text": [
      "[114.31, 0.0, 53.48, 105.00999999999999, 0.0, 113.03, 93.46, 0.0, 94.49, 122.95, 0.0, 20.49000000000001, 124.25, 0.0, 24.36, 112.65999999999998, 0.0, 24.239999999999995]\n"
     ]
    }
   ],
   "source": [
    "counter = 1\n",
    "pos = 0\n",
    "for i in range(len(intensity)):\n",
    "    if counter == 3:\n",
    "        counter = 0\n",
    "        intensity[i]= intensity[i]-bck[pos]\n",
    "        pos += 1\n",
    "    else:\n",
    "        intensity[i]= intensity[i]-bck[pos]\n",
    "    counter +=1\n",
    "\n",
    "print(intensity)"
   ]
  },
  {
   "cell_type": "code",
   "execution_count": 71,
   "id": "ff7c3eaf",
   "metadata": {},
   "outputs": [
    {
     "data": {
      "image/png": "[encoded data removed]",
      "text/plain": [
       "<Figure size 720x360 with 1 Axes>"
      ]
     },
     "metadata": {
      "needs_background": "light"
     },
     "output_type": "display_data"
    }
   ],
   "source": [
    "plt.figure(figsize=(10,5))\n",
    "\n",
    "'''\n",
    "\n",
    "# make the plot white\n",
    "\n",
    "params = {\"ytick.color\" : \"w\",\n",
    "          \"xtick.color\" : \"w\",\n",
    "          \"axes.labelcolor\" : \"w\",\n",
    "          \"axes.edgecolor\" : \"w\"}\n",
    "plt.rcParams.update(params)\n",
    "\n",
    "'''\n",
    "names = ['Control_15min','Test_15min','Control_30min','Test_30min','Control_1h',\n",
    "            'Test_1h','Control_NC_15min','Test_NC_15min','Control_NC_30min','Test_NC_30min','Control_NC_1h','Test_NC_1h']\n",
    "intensity = [i for i in intensity if i != 0]\n",
    "sns.barplot([i for i in range(len(intensity))],intensity)\n",
    "plt.xticks([i for i in range(len(intensity))],names,rotation=20)\n",
    "plt.ylabel('Intensity (A.U)')\n",
    "plt.tight_layout()\n",
    "#plt.savefig('Incubation_time_w.png',dpi=300, transparent=True)\n",
    "plt.show()\n"
   ]
  },
  {
   "cell_type": "code",
   "execution_count": 72,
   "id": "97640fd6",
   "metadata": {},
   "outputs": [
    {
     "name": "stdout",
     "output_type": "stream",
     "text": [
      "Good!\n",
      "(6, 6)\n"
     ]
    }
   ],
   "source": [
    "counter = 0\n",
    "test = []\n",
    "control = []\n",
    "\n",
    "for i in range(len(intensity)):\n",
    "    if counter == 1:\n",
    "        counter = 0\n",
    "        test.append(intensity[i])\n",
    "    else:\n",
    "        control.append(intensity[i])\n",
    "        counter+=1\n",
    "    \n",
    "if len(test) == len(control):\n",
    "    print('Good!')\n",
    "print((len(test),len(control)))\n",
    "    "
   ]
  },
  {
   "cell_type": "code",
   "execution_count": 73,
   "id": "5360799f",
   "metadata": {},
   "outputs": [
    {
     "data": {
      "text/plain": [
       "[53.48, 113.03, 94.49, 20.49000000000001, 24.36, 24.239999999999995]"
      ]
     },
     "execution_count": 73,
     "metadata": {},
     "output_type": "execute_result"
    }
   ],
   "source": [
    "test"
   ]
  },
  {
   "cell_type": "code",
   "execution_count": 74,
   "id": "31f75a73",
   "metadata": {
    "scrolled": true
   },
   "outputs": [
    {
     "data": {
      "text/plain": [
       "[114.31, 105.00999999999999, 93.46, 122.95, 124.25, 112.65999999999998]"
      ]
     },
     "execution_count": 74,
     "metadata": {},
     "output_type": "execute_result"
    }
   ],
   "source": [
    "control"
   ]
  },
  {
   "cell_type": "code",
   "execution_count": 75,
   "id": "a32a9519",
   "metadata": {
    "scrolled": true
   },
   "outputs": [
    {
     "data": {
      "text/plain": [
       "['Test_15min',\n",
       " 'Test_30min',\n",
       " 'Test_1h',\n",
       " 'Test_NC_15min',\n",
       " 'Test_NC_30min',\n",
       " 'Test_NC_1h']"
      ]
     },
     "execution_count": 75,
     "metadata": {},
     "output_type": "execute_result"
    }
   ],
   "source": [
    "[i for i in names if 'Test_' in i]"
   ]
  },
  {
   "cell_type": "code",
   "execution_count": 76,
   "id": "7cd3453a",
   "metadata": {},
   "outputs": [
    {
     "data": {
      "image/png": "[encoded data removed]",
      "text/plain": [
       "<Figure size 1440x504 with 2 Axes>"
      ]
     },
     "metadata": {
      "needs_background": "light"
     },
     "output_type": "display_data"
    }
   ],
   "source": [
    "fig,ax = plt.subplots(1,2)\n",
    "fig.set_size_inches(20,7)\n",
    "\n",
    "ax[0].bar([i for i in range(len(test))],test)\n",
    "ax[0].set_xticks([i for i in range(len(test))])\n",
    "ax[0].set_xticklabels([i for i in names if 'Test_' in i],rotation=20)\n",
    "ax[1].set_xticks([i for i in range(len(test))])\n",
    "ax[1].bar([i for i in range(len(control))],control)\n",
    "ax[1].set_xticklabels([i for i in names if 'Control_' in i],rotation=20)\n",
    "\n",
    "plt.show()"
   ]
  },
  {
   "cell_type": "code",
   "execution_count": 77,
   "id": "eea77f8b",
   "metadata": {},
   "outputs": [
    {
     "data": {
      "image/png": "[encoded data removed]",
      "text/plain": [
       "<Figure size 432x288 with 1 Axes>"
      ]
     },
     "metadata": {
      "needs_background": "light"
     },
     "output_type": "display_data"
    }
   ],
   "source": [
    "ratio = [test[i]/control[i] for i in range(len(test))]\n",
    "\n",
    "sns.set_context(\"notebook\")\n",
    "sns.set_palette(\"pastel\")\n",
    "\n",
    "plt.bar([i for i in range(len(test))],ratio)\n",
    "plt.xticks([i for i in range(len(test))],[i for i in names if 'Test_' in i],rotation=20)\n",
    "plt.ylabel(\"Ratio test/control (A.U)\")\n",
    "plt.savefig(\"images/Ratio_intensity_b.png\",dpi=300)\n",
    "plt.show()"
   ]
  },
  {
   "cell_type": "markdown",
   "id": "12c3b5e0",
   "metadata": {},
   "source": [
    "### 1nm target, 100µM probes, 25 °C, 1h incub"
   ]
  },
  {
   "cell_type": "code",
   "execution_count": 49,
   "id": "01e16dcf",
   "metadata": {},
   "outputs": [
    {
     "name": "stdout",
     "output_type": "stream",
     "text": [
      "[179.57, 12.1, 71.24, 90.07, 20.2, 160.79]\n"
     ]
    }
   ],
   "source": [
    "results = pd.read_csv(\"results/paper_test/Results_pt3.csv\")\n",
    "intensity = list(results.Mean)\n",
    "print(intensity)\n"
   ]
  },
  {
   "cell_type": "code",
   "execution_count": 50,
   "id": "73dcb8cb",
   "metadata": {},
   "outputs": [
    {
     "name": "stdout",
     "output_type": "stream",
     "text": [
      "[12.1, 20.2]\n",
      "[167.47, 0.0, 59.13999999999999, 69.86999999999999, 0.0, 140.59]\n"
     ]
    }
   ],
   "source": [
    "bck = []\n",
    "counter = 0\n",
    "for i in range(len(intensity)):\n",
    "    if counter == 3:\n",
    "        counter = 0\n",
    "        bck.append(intensity[i-2])\n",
    "    counter+=1\n",
    "\n",
    "bck.append(intensity[-2])\n",
    "print(bck)\n",
    "\n",
    "counter = 1\n",
    "pos = 0\n",
    "for i in range(len(intensity)):\n",
    "    if counter == 3:\n",
    "        counter = 0\n",
    "        intensity[i]= intensity[i]-bck[pos]\n",
    "        pos += 1\n",
    "    else:\n",
    "        intensity[i]= intensity[i]-bck[pos]\n",
    "    counter +=1\n",
    "\n",
    "print(intensity)"
   ]
  },
  {
   "cell_type": "code",
   "execution_count": 63,
   "id": "be64a303",
   "metadata": {},
   "outputs": [
    {
     "data": {
      "image/png": "[encoded data removed]",
      "text/plain": [
       "<Figure size 720x360 with 1 Axes>"
      ]
     },
     "metadata": {
      "needs_background": "light"
     },
     "output_type": "display_data"
    }
   ],
   "source": [
    "plt.figure(figsize=(10,5))\n",
    "\n",
    "#'''\n",
    "# make the plot white\n",
    "\n",
    "params_w = {\"ytick.color\" : \"w\",\n",
    "          \"xtick.color\" : \"w\",\n",
    "          \"axes.labelcolor\" : \"w\",\n",
    "          \"axes.edgecolor\" : \"w\"}\n",
    "\n",
    "params_b = {\"ytick.color\" : \"black\",\n",
    "          \"xtick.color\" : \"black\",\n",
    "          \"axes.labelcolor\" : \"black\",\n",
    "          \"axes.edgecolor\" : \"black\"}\n",
    "plt.rcParams.update(params_b)\n",
    "#'''\n",
    "sns.set_context(\"talk\")\n",
    "palette = sns.color_palette(\"pastel\",as_cmap=True)\n",
    "sns.set_palette(palette)\n",
    "names = ['Control_NC','Test_NC','Control','Test']\n",
    "intensity = [i for i in intensity if i != 0]\n",
    "sns.barplot([i for i in range(len(intensity))],intensity)\n",
    "plt.xticks([i for i in range(len(intensity))],names,rotation=20)\n",
    "plt.ylabel('Intensity (A.U)')\n",
    "plt.tight_layout()\n",
    "#plt.savefig('images/Gel_imager_w.png',dpi=300, transparent=True)\n",
    "plt.show()"
   ]
  },
  {
   "cell_type": "code",
   "execution_count": 64,
   "id": "86227537",
   "metadata": {},
   "outputs": [
    {
     "name": "stdout",
     "output_type": "stream",
     "text": [
      "Good!\n",
      "(2, 2)\n"
     ]
    }
   ],
   "source": [
    "counter = 0\n",
    "test = []\n",
    "control = []\n",
    "\n",
    "for i in range(len(intensity)):\n",
    "    if counter == 1:\n",
    "        counter = 0\n",
    "        test.append(intensity[i])\n",
    "    else:\n",
    "        control.append(intensity[i])\n",
    "        counter+=1\n",
    "    \n",
    "if len(test) == len(control):\n",
    "    print('Good!')\n",
    "print((len(test),len(control)))"
   ]
  },
  {
   "cell_type": "code",
   "execution_count": 65,
   "id": "7eb59f12",
   "metadata": {},
   "outputs": [
    {
     "data": {
      "image/png": "[encoded data removed]",
      "text/plain": [
       "<Figure size 432x288 with 1 Axes>"
      ]
     },
     "metadata": {
      "needs_background": "light"
     },
     "output_type": "display_data"
    }
   ],
   "source": [
    "ratio = [test[i]/control[i] for i in range(len(test))]\n",
    "\n",
    "sns.set_context(\"notebook\")\n",
    "sns.set_palette(\"pastel\")\n",
    "\n",
    "plt.bar([i for i in range(len(test))],ratio)\n",
    "plt.xticks([i for i in range(len(test))],['NC','1h incubation'],rotation=0)\n",
    "plt.ylabel(\"Ratio test/control (A.U)\")\n",
    "#plt.savefig(\"images/Ratio_intensity_gel_imager_w.png\",dpi=300)\n",
    "plt.show()"
   ]
  },
  {
   "cell_type": "code",
   "execution_count": null,
   "id": "c0a5499b",
   "metadata": {},
   "outputs": [],
   "source": []
  },
  {
   "cell_type": "code",
   "execution_count": null,
   "id": "11e3283a",
   "metadata": {},
   "outputs": [],
   "source": []
  }
 ],
 "metadata": {
  "kernelspec": {
   "display_name": "Python 3 (ipykernel)",
   "language": "python",
   "name": "python3"
  },
  "language_info": {
   "codemirror_mode": {
    "name": "ipython",
    "version": 3
   },
   "file_extension": ".py",
   "mimetype": "text/x-python",
   "name": "python",
   "nbconvert_exporter": "python",
   "pygments_lexer": "ipython3",
   "version": "3.8.11"
  }
 },
 "nbformat": 4,
 "nbformat_minor": 5
}
